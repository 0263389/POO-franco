{
  "nbformat": 4,
  "nbformat_minor": 0,
  "metadata": {
    "colab": {
      "provenance": []
    },
    "kernelspec": {
      "name": "python3",
      "display_name": "Python 3"
    },
    "language_info": {
      "name": "python"
    }
  },
  "cells": [
    {
      "cell_type": "code",
      "execution_count": 2,
      "metadata": {
        "id": "_xQuKz2Xaofz"
      },
      "outputs": [],
      "source": [
        "class Mascota():\n",
        "\n",
        "  def __init__(self):\n",
        "    print(\"creamos clase madre\")\n",
        "\n",
        "  def adivina(self):\n",
        "    print(\"Hola, soy un perro\")\n",
        "\n",
        "  def hablar(self):\n",
        "    print(\"ladro\")"
      ]
    },
    {
      "cell_type": "code",
      "source": [
        "mascota = Mascota()"
      ],
      "metadata": {
        "colab": {
          "base_uri": "https://localhost:8080/"
        },
        "id": "gQKeqeExddas",
        "outputId": "07a33741-0850-45fe-d647-0ef249b9ef1e"
      },
      "execution_count": 4,
      "outputs": [
        {
          "output_type": "stream",
          "name": "stdout",
          "text": [
            "creamos clase madre\n"
          ]
        }
      ]
    },
    {
      "cell_type": "code",
      "source": [
        "mascota.adivina()"
      ],
      "metadata": {
        "colab": {
          "base_uri": "https://localhost:8080/"
        },
        "id": "BPLEUzeueH-D",
        "outputId": "4eba062b-8c37-487e-b218-9a38d4419ede"
      },
      "execution_count": 5,
      "outputs": [
        {
          "output_type": "stream",
          "name": "stdout",
          "text": [
            "Hola, soy un perro\n"
          ]
        }
      ]
    },
    {
      "cell_type": "markdown",
      "source": [
        "###Crear una herencia"
      ],
      "metadata": {
        "id": "eWisgs0cgvvD"
      }
    },
    {
      "cell_type": "code",
      "source": [
        "class Perro(Mascota):\n",
        "\n",
        "  def __init__(self):\n",
        "    Mascota.__init__(self)\n",
        "    print(\"Creamos una clase heredada\")\n",
        "\n",
        "  def nombre(self):\n",
        "    print(\"Nina\")\n",
        "\n",
        "  def adivina(self):\n",
        "    print(\"salchicha\")\n",
        "\n",
        "  def idioma(self):\n",
        "    print(\"WOOF\")"
      ],
      "metadata": {
        "id": "R3BO-Lapgycw"
      },
      "execution_count": null,
      "outputs": []
    },
    {
      "cell_type": "code",
      "source": [
        "perro = Perro() #Nombramos la clase heredada"
      ],
      "metadata": {
        "id": "XCukkqDmjM2z"
      },
      "execution_count": null,
      "outputs": []
    },
    {
      "cell_type": "code",
      "source": [
        "class Franco():\n",
        "  def __init__(self):\n",
        "    print(\"creamos clase de mi\")\n",
        "\n",
        "  def Quien(self):\n",
        "    print(\"Hola, soy Franco\")\n",
        "\n",
        "  def hablar(self):\n",
        "    print(\"Me gusta mi profesor\")"
      ],
      "metadata": {
        "id": "JAYyz4RsmizE"
      },
      "execution_count": 6,
      "outputs": []
    },
    {
      "cell_type": "code",
      "source": [
        "class Profesor():\n",
        "  def __init__(self):\n",
        "    print(\"creamos clase del profe\")\n",
        "\n",
        "  def Gustos(self):\n",
        "    print(\"Me gusta Franco\")"
      ],
      "metadata": {
        "id": "YQaLDbF4nWXP"
      },
      "execution_count": null,
      "outputs": []
    }
  ]
}