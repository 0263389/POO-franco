{
  "nbformat": 4,
  "nbformat_minor": 0,
  "metadata": {
    "colab": {
      "provenance": []
    },
    "kernelspec": {
      "name": "python3",
      "display_name": "Python 3"
    },
    "language_info": {
      "name": "python"
    }
  },
  "cells": [
    {
      "cell_type": "code",
      "execution_count": 53,
      "metadata": {
        "colab": {
          "base_uri": "https://localhost:8080/"
        },
        "id": "Rq9M5mHjjScZ",
        "outputId": "8dfc4bb0-5c50-4c4c-8367-1782660412e5"
      },
      "outputs": [
        {
          "output_type": "stream",
          "name": "stdout",
          "text": [
            "Área del triángulo: 10.825317547305483\n",
            "Perímetro del triángulo: 15\n",
            "Determinante de la matriz: 6707475.999999998\n",
            "Transpuesta de la matriz: [[94 55 42 47]\n",
            " [40 65 81 87]\n",
            " [90 59 18 24]\n",
            " [42 20 59  6]]\n"
          ]
        }
      ],
      "source": [
        "import numpy as profsexy #cambio de nombre de numpy\n",
        "\n",
        "class Formulas: #Creamos clase madre para resolucion de triangulo\n",
        "\n",
        "    def __init__(self): #inicializamos la clase\n",
        "        pass\n",
        "\n",
        "    def area_triangulo(self, lado):\n",
        "        return (profsexy.sqrt(3) / 4) * lado**2\n",
        "\n",
        "    def perimetro_triangulo(self, lado):\n",
        "        return 3 * lado\n",
        "\n",
        "class MateAvanzadas(Formulas): #Crear clase Heredada\n",
        "\n",
        "    def __init__(self, lista_numeros):\n",
        "        super().__init__() #Creamos una super clase.\n",
        "        if len(lista_numeros) != 16:\n",
        "            raise ValueError(\"La lista debe contener exactamente 16 números.\") #la lista debe tener exactamente 16 numeros si no no sirve.\n",
        "        self.matriz = profsexy.array(lista_numeros).reshape(4, 4) #ponemos los numeros en 4x4\n",
        "\n",
        "    def determinante(self): #funcion que resuelve determinantes\n",
        "        return profsexy.linalg.det(self.matriz)\n",
        "\n",
        "    def transpuesta(self): #funcion de transpuestas\n",
        "        return self.matriz.T\n",
        "\n",
        "        # Generamos una lista de 16 números aleatorio\n",
        "lista_numeros = ([i for i in  profsexy.random.randint(1,100, 16)])\n",
        "\n",
        "# área de un triángulo equilátero de lado 5\n",
        "print(\"Área del triángulo:\", mate.area_triangulo(5))\n",
        "\n",
        "# perímetro de un triángulo equilátero de lado 5\n",
        "print(\"Perímetro del triángulo:\", mate.perimetro_triangulo(5))\n",
        "\n",
        "# determinante de la matriz 4x4\n",
        "print(\"Determinante de la matriz:\", mate.determinante())\n",
        "\n",
        "# transpuesta de la matriz 4x4\n",
        "print(\"Transpuesta de la matriz:\", mate.transpuesta())\n",
        "\n"
      ]
    },
    {
      "cell_type": "code",
      "source": [
        "#No se bien por que sirve el mate.area_triangulo etc pero sirve y eso a mi me sirve."
      ],
      "metadata": {
        "id": "JRffH_QM3noC"
      },
      "execution_count": null,
      "outputs": []
    },
    {
      "cell_type": "code",
      "source": [
        "(profsexy.array([i for i in  profsexy.random.randint(1,100, 16)]).reshape(4,4))"
      ],
      "metadata": {
        "colab": {
          "base_uri": "https://localhost:8080/"
        },
        "id": "gZ_7WmnHwC3z",
        "outputId": "49a46ba0-3edd-4406-8438-ec7028972658"
      },
      "execution_count": 43,
      "outputs": [
        {
          "output_type": "execute_result",
          "data": {
            "text/plain": [
              "array([[76, 87, 90, 38],\n",
              "       [39, 74, 15, 76],\n",
              "       [43, 30, 86,  2],\n",
              "       [32, 61,  7, 97]])"
            ]
          },
          "metadata": {},
          "execution_count": 43
        }
      ]
    }
  ]
}