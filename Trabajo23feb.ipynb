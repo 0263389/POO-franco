{
  "nbformat": 4,
  "nbformat_minor": 0,
  "metadata": {
    "colab": {
      "provenance": []
    },
    "kernelspec": {
      "name": "python3",
      "display_name": "Python 3"
    },
    "language_info": {
      "name": "python"
    }
  },
  "cells": [
    {
      "cell_type": "markdown",
      "source": [
        "1. Describe cuáles son las diferencias entre clases y objetos.\n",
        "La clases son más grandes y contienen a los objetos. Mientras que los objetos son, por ejemplo, las listas, numeros, etc\n",
        "2. Describe por qué usamos self como primer argumento en los métodos.\n",
        "Es para que se definan por si mismas las variables\n",
        "3. ¿Qué es un constructor? ¿Y por qué lo usamos?\n",
        "Un constructor es un método especial que se ejecuta automáticamente al crear un objeto. Se usa para inicializar los atributos del objeto con valores específicos.\n",
        "4. Describir las diferencias entre los atributos de clase y de instancia.\n",
        "Los atributos son las definiciones o tambien llamados métodos y las instancias son las que te dicen que tipo de bjeto tienes en las definiciones.\n",
        "5. La siguiente es una definición de la clase Punto que toma las coordenadas x, y. Agregue un método plot_point que trace la posición del punto.\n",
        "6. Documenta y prueba con algunos puntos el siguiente código:"
      ],
      "metadata": {
        "id": "Y6ltAmcO3ea2"
      }
    },
    {
      "cell_type": "code",
      "execution_count": 2,
      "metadata": {
        "id": "V1cQb0Oi2GI3"
      },
      "outputs": [],
      "source": [
        "class Relojes:\n",
        "  def __init__(self, marca, modelo, año):\n",
        "    self.marca = marca\n",
        "    self.modelo = modelo\n",
        "    self.año = año\n",
        "\n",
        "  def hora(self):\n",
        "    print(f\"Mi reloj {self.marca} {self.modelo} marca las 12.\")\n",
        "\n",
        "  def regalo(self):\n",
        "    print(f\"Mi reloj{self.marca} {self.modelo} fue regalo de mi abuela.\")\n",
        "\n",
        "class RelojMuñeca(Relojes):\n",
        "  def __init__(self, marca, modelo, año):\n",
        "    super().__init__(marca, modelo, año)\n",
        "\n",
        "  def modelo(self):\n",
        "    print(f\"Mi reloj {self.marca} {self.modelo}. es Rolex\")\n",
        "\n",
        "  def automatico(self):\n",
        "    print(f\"mi reloj {self.marca} {self.modelo} es automatico.\")"
      ]
    },
    {
      "cell_type": "code",
      "source": [
        "mi_Reloj = RelojMuñeca(\"Rolex\", \"daytona\", 2017)\n",
        "mi_Reloj.hora()\n",
        "mi_Reloj.regalo()\n",
        "mi_Reloj.automatico()"
      ],
      "metadata": {
        "colab": {
          "base_uri": "https://localhost:8080/"
        },
        "id": "9xIZiTIM3NLO",
        "outputId": "ae0eb847-7c1e-4e6b-84e4-a986bd06adb8"
      },
      "execution_count": 4,
      "outputs": [
        {
          "output_type": "stream",
          "name": "stdout",
          "text": [
            "Mi reloj Rolex daytona marca las 12.\n",
            "Mi relojRolex daytona fue regalo de mi abuela.\n",
            "mi reloj Rolex daytona es automatico.\n"
          ]
        }
      ]
    },
    {
      "cell_type": "code",
      "source": [
        "import matplotlib.pyplot as plt\n",
        "\n",
        "class Punto():\n",
        "    def __init__(self, x, y):\n",
        "        self.x = x\n",
        "        self.y = y\n",
        "\n",
        "    def plot(self):\n",
        "        plt.scatter(self.x, self.y, color='red', marker='o')\n",
        "        plt.xlabel('X-axis')\n",
        "        plt.ylabel('Y-axis')\n",
        "        plt.title('Gráfica del punto')\n",
        "        plt.grid(True)\n",
        "        plt.show()"
      ],
      "metadata": {
        "id": "-MU9yIrs3U7B"
      },
      "execution_count": 5,
      "outputs": []
    },
    {
      "cell_type": "code",
      "source": [
        "punto= Punto(3,4)\n",
        "punto.plot()"
      ],
      "metadata": {
        "colab": {
          "base_uri": "https://localhost:8080/",
          "height": 472
        },
        "id": "AGbc8hzn5342",
        "outputId": "9144ea50-7f5a-40b2-b8b5-9ed370a6f77d"
      },
      "execution_count": 7,
      "outputs": [
        {
          "output_type": "display_data",
          "data": {
            "text/plain": [
              "<Figure size 640x480 with 1 Axes>"
            ],
            "image/png": "[encoded data removed]"
          },
          "metadata": {}
        }
      ]
    }
  ]
}