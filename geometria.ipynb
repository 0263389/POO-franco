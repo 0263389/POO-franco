{
  "nbformat": 4,
  "nbformat_minor": 0,
  "metadata": {
    "colab": {
      "provenance": []
    },
    "kernelspec": {
      "name": "python3",
      "display_name": "Python 3"
    },
    "language_info": {
      "name": "python"
    }
  },
  "cells": [
    {
      "cell_type": "code",
      "execution_count": 5,
      "metadata": {
        "id": "DM4Rj-M1a4eb"
      },
      "outputs": [],
      "source": [
        "def area(b,l):\n",
        "  a= ((b*l)/2)\n",
        "  return a\n",
        "def perimetro(b,l):\n",
        "  p=(2*l+b)\n",
        "  return p"
      ]
    },
    {
      "cell_type": "code",
      "source": [
        "area(7,3)"
      ],
      "metadata": {
        "colab": {
          "base_uri": "https://localhost:8080/"
        },
        "id": "kzBTzgOya9ud",
        "outputId": "9c55baf9-2943-4e5d-d65c-a8590b3ececb"
      },
      "execution_count": 3,
      "outputs": [
        {
          "output_type": "execute_result",
          "data": {
            "text/plain": [
              "10.5"
            ]
          },
          "metadata": {},
          "execution_count": 3
        }
      ]
    },
    {
      "cell_type": "code",
      "source": [
        "perimetro(7,3)"
      ],
      "metadata": {
        "colab": {
          "base_uri": "https://localhost:8080/"
        },
        "id": "UtC5sXgsa9wb",
        "outputId": "977afac7-cf08-4a82-800c-16696b654133"
      },
      "execution_count": 4,
      "outputs": [
        {
          "output_type": "execute_result",
          "data": {
            "text/plain": [
              "13"
            ]
          },
          "metadata": {},
          "execution_count": 4
        }
      ]
    },
    {
      "cell_type": "code",
      "source": [
        "def num(x):\n",
        "  numpar=x%2\n",
        "  return numpar"
      ],
      "metadata": {
        "id": "MYAmyinWa9_e"
      },
      "execution_count": 6,
      "outputs": []
    },
    {
      "cell_type": "code",
      "source": [
        "num(7)"
      ],
      "metadata": {
        "colab": {
          "base_uri": "https://localhost:8080/"
        },
        "id": "YRZynn3IbJGl",
        "outputId": "bfdb7474-8f3f-46f0-fe5f-30a0e5a6520f"
      },
      "execution_count": 7,
      "outputs": [
        {
          "output_type": "execute_result",
          "data": {
            "text/plain": [
              "1"
            ]
          },
          "metadata": {},
          "execution_count": 7
        }
      ]
    },
    {
      "cell_type": "code",
      "source": [
        "x=9\n",
        "\n",
        "if num(x)==0:\n",
        "  print(\"par\")\n",
        "else:\n",
        "    print(\"impar\")"
      ],
      "metadata": {
        "colab": {
          "base_uri": "https://localhost:8080/"
        },
        "id": "g2TkypoabJR5",
        "outputId": "2d047011-27ae-47a3-f89e-1b04c4f18c67"
      },
      "execution_count": 9,
      "outputs": [
        {
          "output_type": "stream",
          "name": "stdout",
          "text": [
            "impar\n"
          ]
        }
      ]
    },
    {
      "cell_type": "code",
      "source": [
        "def perfecto(n):\n",
        "  sumadiv = 1\n",
        "  for i in range(2, int(n**0.5) + 1):\n",
        "    if n % i == 0:\n",
        "      sumadiv += i + n // i\n",
        "  return sumadiv == n\n",
        "x=8\n",
        "if perfecto(x):\n",
        "  print(\"perfecto\")\n",
        "else:\n",
        "  print(\"no perfecto\")"
      ],
      "metadata": {
        "colab": {
          "base_uri": "https://localhost:8080/"
        },
        "id": "D5V7hmMibJYl",
        "outputId": "214f3472-b857-4bdc-892b-316d65b86f10"
      },
      "execution_count": 10,
      "outputs": [
        {
          "output_type": "stream",
          "name": "stdout",
          "text": [
            "no perfecto\n"
          ]
        }
      ]
    }
  ]
}